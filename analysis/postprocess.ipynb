{
 "cells": [
  {
   "cell_type": "code",
   "execution_count": 22,
   "metadata": {},
   "outputs": [],
   "source": [
    "import harp\n",
    "import pandas as pd\n",
    "from glob import glob\n",
    "import matplotlib.pyplot as plt\n",
    "from functools import reduce\n",
    "import cv2\n",
    "import numpy as np\n",
    "import utils\n",
    "import aeon.io.video as video\n",
    "import aeon.analysis.movies as frame_helpers\n",
    "from dotmap import DotMap\n",
    "\n",
    "harp_reader = harp.create_reader('device.yml', epoch=harp.REFERENCE_EPOCH)\n",
    "session_data_reader = utils.SessionData()\n",
    "rules_reader = utils.SessionData()\n",
    "video_reader = utils.Video()\n",
    "\n",
    "harp_datafolder = r'../temp_data_remote/2024-06-03T13-44-15/Expander/'\n",
    "settings_datafolder = r'../temp_data_remote/2024-06-03T13-44-15/SessionSettings/'\n",
    "rules_datafolder = r'../temp_data_remote/2024-06-03T13-44-15/RuleSettings/'\n",
    "video_datafolder = r'../temp_data_remote/2024-06-03T13-44-15/VideoData/'\n",
    "output_event_folder = r'../temp_data_remote/2024-06-03T13-44-15/EventResults/'"
   ]
  },
  {
   "cell_type": "code",
   "execution_count": 23,
   "metadata": {},
   "outputs": [
    {
     "name": "stdout",
     "output_type": "stream",
     "text": [
      "                                                                     metadata\n",
      "2024-06-03 13:44:16.872479  {'lineMappings': {'odorMap': [DotMap(name='Odo...\n",
      "                                                                     metadata\n",
      "2024-06-03 13:44:16.872479  {'ruleAlias': 'Rule1', 'stateDefinitions': [{'...\n"
     ]
    }
   ],
   "source": [
    "# read experiment metadata\n",
    "session_settings = utils.load_json(session_data_reader, settings_datafolder)\n",
    "\n",
    "rule_settings = utils.load_json(rules_reader, rules_datafolder)\n",
    "\n",
    "print(session_settings)\n",
    "print(rule_settings)"
   ]
  },
  {
   "cell_type": "code",
   "execution_count": 24,
   "metadata": {},
   "outputs": [
    {
     "data": {
      "text/plain": [
       "[<matplotlib.lines.Line2D at 0x18cbf79df50>]"
      ]
     },
     "execution_count": 24,
     "metadata": {},
     "output_type": "execute_result"
    },
    {
     "data": {
      "image/png": "[encoded data removed]",
      "text/plain": [
       "<Figure size 640x480 with 1 Axes>"
      ]
     },
     "metadata": {},
     "output_type": "display_data"
    }
   ],
   "source": [
    "# read experiment video\n",
    "video_data = utils.load_video(video_reader, video_datafolder)\n",
    "\n",
    "plt.plot(video_data.index, video_data[\"_frame\"])"
   ]
  },
  {
   "cell_type": "code",
   "execution_count": 28,
   "metadata": {},
   "outputs": [
    {
     "name": "stdout",
     "output_type": "stream",
     "text": [
      "plimbo\n",
      "Time\n",
      "2024-06-03 13:44:32.890495777    False\n",
      "2024-06-03 13:44:32.923488140    False\n",
      "2024-06-03 13:44:32.924479961    False\n",
      "2024-06-03 13:44:32.926496029     True\n",
      "2024-06-03 13:44:32.929503918    False\n",
      "                                 ...  \n",
      "2024-06-03 13:44:48.438496113    False\n",
      "2024-06-03 13:44:48.439487934     True\n",
      "2024-06-03 13:44:48.440480232    False\n",
      "2024-06-03 13:44:50.951488018    False\n",
      "2024-06-03 13:44:50.952479839    False\n",
      "Name: Out8, Length: 117, dtype: bool\n"
     ]
    },
    {
     "name": "stderr",
     "output_type": "stream",
     "text": [
      "C:\\Users\\neurogears\\AppData\\Local\\Temp\\ipykernel_2036\\1766975832.py:47: FutureWarning: Downcasting object dtype arrays on .fillna, .ffill, .bfill is deprecated and will change in a future version. Call result.infer_objects(copy=False) instead. To opt-in to the future behavior, set `pd.set_option('future.no_silent_downcasting', True)`\n",
      "  merged['poke_count'] = (merged['poke_events'] * 1).cumsum(skipna=True).ffill()\n",
      "C:\\Users\\neurogears\\AppData\\Local\\Temp\\ipykernel_2036\\1766975832.py:48: FutureWarning: Downcasting object dtype arrays on .fillna, .ffill, .bfill is deprecated and will change in a future version. Call result.infer_objects(copy=False) instead. To opt-in to the future behavior, set `pd.set_option('future.no_silent_downcasting', True)`\n",
      "  merged['odor_count'] = (merged['odorA_state'] * 1).cumsum(skipna=True).ffill() + (merged['odorB_state'] * 1).cumsum(skipna=True).ffill() + \\\n",
      "C:\\Users\\neurogears\\AppData\\Local\\Temp\\ipykernel_2036\\1766975832.py:49: FutureWarning: Downcasting object dtype arrays on .fillna, .ffill, .bfill is deprecated and will change in a future version. Call result.infer_objects(copy=False) instead. To opt-in to the future behavior, set `pd.set_option('future.no_silent_downcasting', True)`\n",
      "  (merged['odorC_state'] * 1).cumsum(skipna=True).ffill() + (merged['odorD_state'] * 1).cumsum(skipna=True).ffill()\n"
     ]
    }
   ],
   "source": [
    "# Read HARP device streams, conditioned on mappings found in the session metadata\n",
    "metadata = session_settings.iloc[0]['metadata']\n",
    "print(metadata.metadata.animalId)\n",
    "\n",
    "# Extract line mappings from metadata\n",
    "aux_line = f'Aux{metadata.lineMappings.auxLine}'\n",
    "port_line = f'Out{metadata.lineMappings.portLine}'\n",
    "vacuum_line = f'Out{metadata.lineMappings.vacuumLine}'\n",
    "odorA = f\"Out{next((x.line for x in metadata.lineMappings.odorMap if x.name=='OdorA'), None)}\"\n",
    "odorB = f\"Out{next((x.line for x in metadata.lineMappings.odorMap if x.name=='OdorB'), None)}\"\n",
    "odorC = f\"Out{next((x.line for x in metadata.lineMappings.odorMap if x.name=='OdorC'), None)}\"\n",
    "odorD = f\"Out{next((x.line for x in metadata.lineMappings.odorMap if x.name=='OdorD'), None)}\"\n",
    "\n",
    "# Aux line containing poke events\n",
    "poke_events = utils.load(harp_reader.AuxInState, harp_datafolder)[aux_line]\n",
    "\n",
    "# times when outputs were set to HIGH (e.g. port valve opening, manifold valve opening)\n",
    "outputs_HIGH = utils.load(harp_reader.OutputSet, harp_datafolder)\n",
    "# times when outputs were set to LOW (e.g. port valve closing, manifold closing)\n",
    "outputs_LOW = utils.load(harp_reader.OutputClear, harp_datafolder)\n",
    "\n",
    "print(outputs_LOW[odorC])\n",
    "\n",
    "# convert LOW and HIGH events to port state dataframes\n",
    "line_states = {\n",
    "    \"poke_events\": poke_events,\n",
    "    \"port_line_state\": utils.concat_digi_events(outputs_LOW[port_line], outputs_HIGH[port_line]),\n",
    "    \"vacuum_line_state\": utils.concat_digi_events(outputs_LOW[vacuum_line], outputs_HIGH[vacuum_line]),\n",
    "    \"odorA_state\": utils.concat_digi_events(outputs_LOW[odorA], outputs_HIGH[odorA]),\n",
    "    \"odorB_state\": utils.concat_digi_events(outputs_LOW[odorB], outputs_HIGH[odorB]),\n",
    "    \"odorC_state\": utils.concat_digi_events(outputs_LOW[odorC], outputs_HIGH[odorC]),\n",
    "    \"odorD_state\": utils.concat_digi_events(outputs_LOW[odorD], outputs_HIGH[odorD])\n",
    "}\n",
    "\n",
    "# consolidate digital lines into as single DataFrame\n",
    "merged = pd.merge(line_states[\"poke_events\"], line_states[\"port_line_state\"], left_on=\"Time\", right_on=\"Time\", how=\"outer\") \\\n",
    "        .merge(line_states[\"vacuum_line_state\"], left_on=\"Time\", right_on=\"Time\", how=\"outer\") \\\n",
    "        .merge(line_states[\"odorA_state\"], left_on=\"Time\", right_on=\"Time\", how=\"outer\") \\\n",
    "        .merge(line_states[\"odorB_state\"], left_on=\"Time\", right_on=\"Time\", how=\"outer\") \\\n",
    "        .merge(line_states[\"odorC_state\"], left_on=\"Time\", right_on=\"Time\", how=\"outer\") \\\n",
    "        .merge(line_states[\"odorD_state\"], left_on=\"Time\", right_on=\"Time\", how=\"outer\")\n",
    "\n",
    "# rename columns according to metadata line mapping\n",
    "merged.columns = line_states.keys()\n",
    "\n",
    "# add additional meta information\n",
    "merged['poke_count'] = (merged['poke_events'] * 1).cumsum(skipna=True).ffill()\n",
    "merged['odor_count'] = (merged['odorA_state'] * 1).cumsum(skipna=True).ffill() + (merged['odorB_state'] * 1).cumsum(skipna=True).ffill() + \\\n",
    "                       (merged['odorC_state'] * 1).cumsum(skipna=True).ffill() + (merged['odorD_state'] * 1).cumsum(skipna=True).ffill()\n",
    "\n",
    "# ensure we only consider data after initial odor activation\n",
    "merged = merged[merged[\"odor_count\"] >= 1]\n",
    "\n",
    "print(merged)\n"
   ]
  },
  {
   "cell_type": "code",
   "execution_count": 26,
   "metadata": {},
   "outputs": [
    {
     "name": "stdout",
     "output_type": "stream",
     "text": [
      "                              poke_events port_line_state vacuum_line_state  \\\n",
      "Time                                                                          \n",
      "2024-06-03 13:44:30.972479820        True             NaN               NaN   \n",
      "2024-06-03 13:44:31.387584209       False             NaN               NaN   \n",
      "2024-06-03 13:44:31.867712021        True             NaN               NaN   \n",
      "2024-06-03 13:44:32.092160225       False             NaN               NaN   \n",
      "2024-06-03 13:44:32.890495777         NaN           False               NaN   \n",
      "...                                   ...             ...               ...   \n",
      "2024-06-03 13:44:48.439487934         NaN             NaN               NaN   \n",
      "2024-06-03 13:44:48.440480232         NaN             NaN               NaN   \n",
      "2024-06-03 13:44:48.468480110         NaN             NaN               NaN   \n",
      "2024-06-03 13:44:50.951488018         NaN             NaN               NaN   \n",
      "2024-06-03 13:44:50.952479839         NaN             NaN               NaN   \n",
      "\n",
      "                              odorA_state odorB_state odorC_state odorD_state  \\\n",
      "Time                                                                            \n",
      "2024-06-03 13:44:30.972479820         NaN         NaN         NaN         NaN   \n",
      "2024-06-03 13:44:31.387584209         NaN         NaN         NaN         NaN   \n",
      "2024-06-03 13:44:31.867712021         NaN         NaN         NaN         NaN   \n",
      "2024-06-03 13:44:32.092160225         NaN         NaN         NaN         NaN   \n",
      "2024-06-03 13:44:32.890495777         NaN         NaN         NaN         NaN   \n",
      "...                                   ...         ...         ...         ...   \n",
      "2024-06-03 13:44:48.439487934         NaN         NaN       False         NaN   \n",
      "2024-06-03 13:44:48.440480232         NaN         NaN         NaN       False   \n",
      "2024-06-03 13:44:48.468480110         NaN        True         NaN         NaN   \n",
      "2024-06-03 13:44:50.951488018       False         NaN         NaN         NaN   \n",
      "2024-06-03 13:44:50.952479839         NaN       False         NaN         NaN   \n",
      "\n",
      "                               poke_count  odor_count  initiating_event  \\\n",
      "Time                                                                      \n",
      "2024-06-03 13:44:30.972479820         1.0         NaN             False   \n",
      "2024-06-03 13:44:31.387584209         1.0         NaN             False   \n",
      "2024-06-03 13:44:31.867712021         2.0         NaN             False   \n",
      "2024-06-03 13:44:32.092160225         2.0         NaN             False   \n",
      "2024-06-03 13:44:32.890495777         2.0         NaN             False   \n",
      "...                                   ...         ...               ...   \n",
      "2024-06-03 13:44:48.439487934        35.0        22.0             False   \n",
      "2024-06-03 13:44:48.440480232        35.0        22.0             False   \n",
      "2024-06-03 13:44:48.468480110        35.0        23.0             False   \n",
      "2024-06-03 13:44:50.951488018        35.0        23.0             False   \n",
      "2024-06-03 13:44:50.952479839        35.0        23.0             False   \n",
      "\n",
      "                               initiating_event_count  \n",
      "Time                                                   \n",
      "2024-06-03 13:44:30.972479820                       0  \n",
      "2024-06-03 13:44:31.387584209                       0  \n",
      "2024-06-03 13:44:31.867712021                       0  \n",
      "2024-06-03 13:44:32.092160225                       0  \n",
      "2024-06-03 13:44:32.890495777                       0  \n",
      "...                                               ...  \n",
      "2024-06-03 13:44:48.439487934                       0  \n",
      "2024-06-03 13:44:48.440480232                       0  \n",
      "2024-06-03 13:44:48.468480110                       0  \n",
      "2024-06-03 13:44:50.951488018                       0  \n",
      "2024-06-03 13:44:50.952479839                       0  \n",
      "\n",
      "[232 rows x 11 columns]\n"
     ]
    },
    {
     "name": "stderr",
     "output_type": "stream",
     "text": [
      "C:\\Users\\neurogears\\AppData\\Local\\Temp\\ipykernel_2036\\1554693285.py:5: FutureWarning: Downcasting object dtype arrays on .fillna, .ffill, .bfill is deprecated and will change in a future version. Call result.infer_objects(copy=False) instead. To opt-in to the future behavior, set `pd.set_option('future.no_silent_downcasting', True)`\n",
      "  vacuum_state = merged[\"vacuum_line_state\"].ffill() * 1\n"
     ]
    }
   ],
   "source": [
    "# Extract initiating events\n",
    "merged[\"initiating_event\"] = False\n",
    "\n",
    "diffs = (merged[\"port_line_state\"].ffill() * 1).diff()\n",
    "vacuum_state = merged[\"vacuum_line_state\"].ffill() * 1\n",
    "port_events = merged[\"port_line_state\"][(diffs==1) & (vacuum_state==0)]\n",
    "\n",
    "for i in port_events.index:\n",
    "    pre_events = merged[merged.index <= (i - pd.Timedelta(seconds=metadata.metadata.minimumPokeTime))]\n",
    "    initiating_poke_event = pre_events[pre_events[\"poke_events\"] == True].iloc[[-1]]\n",
    "    merged.loc[initiating_poke_event.index, \"initiating_event\"] = True\n",
    "    \n",
    "merged['initiating_event_count'] = (merged['initiating_event'] * 1).cumsum(skipna=True).ffill()\n",
    "print(merged)"
   ]
  },
  {
   "cell_type": "code",
   "execution_count": 27,
   "metadata": {},
   "outputs": [
    {
     "name": "stderr",
     "output_type": "stream",
     "text": [
      "C:\\Users\\neurogears\\AppData\\Local\\Temp\\ipykernel_2036\\3592185595.py:14: FutureWarning: Downcasting object dtype arrays on .fillna, .ffill, .bfill is deprecated and will change in a future version. Call result.infer_objects(copy=False) instead. To opt-in to the future behavior, set `pd.set_option('future.no_silent_downcasting', True)`\n",
      "  cur_state = experiment_state.ffill().loc[experiment_state.index <= event_time].iloc[[-1]]\n",
      "C:\\Users\\neurogears\\AppData\\Local\\Temp\\ipykernel_2036\\3592185595.py:17: FutureWarning: Series.__getitem__ treating keys as positions is deprecated. In a future version, integer keys will always be treated as labels (consistent with DataFrame behavior). To access a value by position, use `ser.iloc[pos]`\n",
      "  cur_odor = [state for state in ['odorA_state', 'odorB_state', 'odorC_state', 'odorD_state'] if cur_state[state][0]]\n"
     ]
    },
    {
     "ename": "IndexError",
     "evalue": "index 0 is out of bounds for axis 0 with size 0",
     "output_type": "error",
     "traceback": [
      "\u001b[1;31m---------------------------------------------------------------------------\u001b[0m",
      "\u001b[1;31mIndexError\u001b[0m                                Traceback (most recent call last)",
      "Cell \u001b[1;32mIn[27], line 77\u001b[0m\n\u001b[0;32m     74\u001b[0m poke_events \u001b[38;5;241m=\u001b[39m merged[\u001b[38;5;124m\"\u001b[39m\u001b[38;5;124mpoke_events\u001b[39m\u001b[38;5;124m\"\u001b[39m][merged[\u001b[38;5;124m\"\u001b[39m\u001b[38;5;124mpoke_events\u001b[39m\u001b[38;5;124m\"\u001b[39m]\u001b[38;5;241m==\u001b[39m\u001b[38;5;28;01mTrue\u001b[39;00m]\n\u001b[0;32m     75\u001b[0m poke_event_times \u001b[38;5;241m=\u001b[39m [poke_events\u001b[38;5;241m.\u001b[39miloc[[t]]\u001b[38;5;241m.\u001b[39mindex[\u001b[38;5;241m0\u001b[39m] \u001b[38;5;28;01mfor\u001b[39;00m t \u001b[38;5;129;01min\u001b[39;00m \u001b[38;5;28mrange\u001b[39m(\u001b[38;5;28mlen\u001b[39m(poke_events))]\n\u001b[1;32m---> 77\u001b[0m results \u001b[38;5;241m=\u001b[39m [extract_event_info(merged, rule_settings, t, \u001b[38;5;241m2.0\u001b[39m, metadata) \u001b[38;5;28;01mfor\u001b[39;00m t \u001b[38;5;129;01min\u001b[39;00m poke_event_times]\n\u001b[0;32m     78\u001b[0m \u001b[38;5;28mprint\u001b[39m(results)\n\u001b[0;32m     79\u001b[0m summary \u001b[38;5;241m=\u001b[39m pd\u001b[38;5;241m.\u001b[39mconcat([r[\u001b[38;5;241m2\u001b[39m] \u001b[38;5;28;01mfor\u001b[39;00m r \u001b[38;5;129;01min\u001b[39;00m results])\n",
      "Cell \u001b[1;32mIn[27], line 77\u001b[0m, in \u001b[0;36m<listcomp>\u001b[1;34m(.0)\u001b[0m\n\u001b[0;32m     74\u001b[0m poke_events \u001b[38;5;241m=\u001b[39m merged[\u001b[38;5;124m\"\u001b[39m\u001b[38;5;124mpoke_events\u001b[39m\u001b[38;5;124m\"\u001b[39m][merged[\u001b[38;5;124m\"\u001b[39m\u001b[38;5;124mpoke_events\u001b[39m\u001b[38;5;124m\"\u001b[39m]\u001b[38;5;241m==\u001b[39m\u001b[38;5;28;01mTrue\u001b[39;00m]\n\u001b[0;32m     75\u001b[0m poke_event_times \u001b[38;5;241m=\u001b[39m [poke_events\u001b[38;5;241m.\u001b[39miloc[[t]]\u001b[38;5;241m.\u001b[39mindex[\u001b[38;5;241m0\u001b[39m] \u001b[38;5;28;01mfor\u001b[39;00m t \u001b[38;5;129;01min\u001b[39;00m \u001b[38;5;28mrange\u001b[39m(\u001b[38;5;28mlen\u001b[39m(poke_events))]\n\u001b[1;32m---> 77\u001b[0m results \u001b[38;5;241m=\u001b[39m [extract_event_info(merged, rule_settings, t, \u001b[38;5;241m2.0\u001b[39m, metadata) \u001b[38;5;28;01mfor\u001b[39;00m t \u001b[38;5;129;01min\u001b[39;00m poke_event_times]\n\u001b[0;32m     78\u001b[0m \u001b[38;5;28mprint\u001b[39m(results)\n\u001b[0;32m     79\u001b[0m summary \u001b[38;5;241m=\u001b[39m pd\u001b[38;5;241m.\u001b[39mconcat([r[\u001b[38;5;241m2\u001b[39m] \u001b[38;5;28;01mfor\u001b[39;00m r \u001b[38;5;129;01min\u001b[39;00m results])\n",
      "Cell \u001b[1;32mIn[27], line 33\u001b[0m, in \u001b[0;36mextract_event_info\u001b[1;34m(experiment_state, rule_state, event_time, time_offset, metadata)\u001b[0m\n\u001b[0;32m     30\u001b[0m time_port_open \u001b[38;5;241m=\u001b[39m experiment_state\u001b[38;5;241m.\u001b[39mloc[(experiment_state[\u001b[38;5;124m'\u001b[39m\u001b[38;5;124mport_line_state\u001b[39m\u001b[38;5;124m'\u001b[39m] \u001b[38;5;241m==\u001b[39m \u001b[38;5;28;01mTrue\u001b[39;00m) \u001b[38;5;241m&\u001b[39m (experiment_state\u001b[38;5;241m.\u001b[39mindex \u001b[38;5;241m>\u001b[39m event_time)]\u001b[38;5;241m.\u001b[39mindex[\u001b[38;5;241m0\u001b[39m]\n\u001b[0;32m     31\u001b[0m time_port_close \u001b[38;5;241m=\u001b[39m experiment_state\u001b[38;5;241m.\u001b[39mloc[(experiment_state[\u001b[38;5;124m'\u001b[39m\u001b[38;5;124mport_line_state\u001b[39m\u001b[38;5;124m'\u001b[39m] \u001b[38;5;241m==\u001b[39m \u001b[38;5;28;01mFalse\u001b[39;00m) \u001b[38;5;241m&\u001b[39m (experiment_state\u001b[38;5;241m.\u001b[39mindex \u001b[38;5;241m>\u001b[39m event_time)]\u001b[38;5;241m.\u001b[39mindex[\u001b[38;5;241m0\u001b[39m]\n\u001b[1;32m---> 33\u001b[0m time_odor_open \u001b[38;5;241m=\u001b[39m experiment_state\u001b[38;5;241m.\u001b[39mloc[(experiment_state[cur_odor] \u001b[38;5;241m==\u001b[39m \u001b[38;5;28;01mTrue\u001b[39;00m) \u001b[38;5;241m&\u001b[39m (experiment_state\u001b[38;5;241m.\u001b[39mindex \u001b[38;5;241m<\u001b[39m\u001b[38;5;241m=\u001b[39m event_time)]\u001b[38;5;241m.\u001b[39mindex[\u001b[38;5;241m0\u001b[39m] \u001b[38;5;28;01mif\u001b[39;00m cur_odor \u001b[38;5;28;01melse\u001b[39;00m \u001b[38;5;28;01mNone\u001b[39;00m\n\u001b[0;32m     34\u001b[0m time_odor_close \u001b[38;5;241m=\u001b[39m experiment_state\u001b[38;5;241m.\u001b[39mloc[(experiment_state[cur_odor] \u001b[38;5;241m==\u001b[39m \u001b[38;5;28;01mFalse\u001b[39;00m) \u001b[38;5;241m&\u001b[39m (experiment_state\u001b[38;5;241m.\u001b[39mindex \u001b[38;5;241m>\u001b[39m event_time)]\u001b[38;5;241m.\u001b[39mindex[\u001b[38;5;241m0\u001b[39m] \u001b[38;5;28;01mif\u001b[39;00m cur_odor \u001b[38;5;28;01melse\u001b[39;00m \u001b[38;5;28;01mNone\u001b[39;00m\n\u001b[0;32m     36\u001b[0m next_poke_valves \u001b[38;5;241m=\u001b[39m (experiment_state[experiment_state\u001b[38;5;241m.\u001b[39mindex \u001b[38;5;241m>\u001b[39m time_port_close])[[\u001b[38;5;124m'\u001b[39m\u001b[38;5;124modorA_state\u001b[39m\u001b[38;5;124m'\u001b[39m, \u001b[38;5;124m'\u001b[39m\u001b[38;5;124modorB_state\u001b[39m\u001b[38;5;124m'\u001b[39m, \u001b[38;5;124m'\u001b[39m\u001b[38;5;124modorC_state\u001b[39m\u001b[38;5;124m'\u001b[39m, \u001b[38;5;124m'\u001b[39m\u001b[38;5;124modorD_state\u001b[39m\u001b[38;5;124m'\u001b[39m]]\u001b[38;5;241m.\u001b[39msum(axis\u001b[38;5;241m=\u001b[39m\u001b[38;5;241m1\u001b[39m)\n",
      "File \u001b[1;32mc:\\Users\\neurogears\\source\\repos\\zuckerman\\Delphi\\.conda\\Lib\\site-packages\\pandas\\core\\indexes\\base.py:5389\u001b[0m, in \u001b[0;36mIndex.__getitem__\u001b[1;34m(self, key)\u001b[0m\n\u001b[0;32m   5386\u001b[0m \u001b[38;5;28;01mif\u001b[39;00m is_integer(key) \u001b[38;5;129;01mor\u001b[39;00m is_float(key):\n\u001b[0;32m   5387\u001b[0m     \u001b[38;5;66;03m# GH#44051 exclude bool, which would return a 2d ndarray\u001b[39;00m\n\u001b[0;32m   5388\u001b[0m     key \u001b[38;5;241m=\u001b[39m com\u001b[38;5;241m.\u001b[39mcast_scalar_indexer(key)\n\u001b[1;32m-> 5389\u001b[0m     \u001b[38;5;28;01mreturn\u001b[39;00m getitem(key)\n\u001b[0;32m   5391\u001b[0m \u001b[38;5;28;01mif\u001b[39;00m \u001b[38;5;28misinstance\u001b[39m(key, \u001b[38;5;28mslice\u001b[39m):\n\u001b[0;32m   5392\u001b[0m     \u001b[38;5;66;03m# This case is separated from the conditional above to avoid\u001b[39;00m\n\u001b[0;32m   5393\u001b[0m     \u001b[38;5;66;03m# pessimization com.is_bool_indexer and ndim checks.\u001b[39;00m\n\u001b[0;32m   5394\u001b[0m     \u001b[38;5;28;01mreturn\u001b[39;00m \u001b[38;5;28mself\u001b[39m\u001b[38;5;241m.\u001b[39m_getitem_slice(key)\n",
      "File \u001b[1;32mc:\\Users\\neurogears\\source\\repos\\zuckerman\\Delphi\\.conda\\Lib\\site-packages\\pandas\\core\\arrays\\datetimelike.py:379\u001b[0m, in \u001b[0;36mDatetimeLikeArrayMixin.__getitem__\u001b[1;34m(self, key)\u001b[0m\n\u001b[0;32m    372\u001b[0m \u001b[38;5;250m\u001b[39m\u001b[38;5;124;03m\"\"\"\u001b[39;00m\n\u001b[0;32m    373\u001b[0m \u001b[38;5;124;03mThis getitem defers to the underlying array, which by-definition can\u001b[39;00m\n\u001b[0;32m    374\u001b[0m \u001b[38;5;124;03monly handle list-likes, slices, and integer scalars\u001b[39;00m\n\u001b[0;32m    375\u001b[0m \u001b[38;5;124;03m\"\"\"\u001b[39;00m\n\u001b[0;32m    376\u001b[0m \u001b[38;5;66;03m# Use cast as we know we will get back a DatetimeLikeArray or DTScalar,\u001b[39;00m\n\u001b[0;32m    377\u001b[0m \u001b[38;5;66;03m# but skip evaluating the Union at runtime for performance\u001b[39;00m\n\u001b[0;32m    378\u001b[0m \u001b[38;5;66;03m# (see https://github.com/pandas-dev/pandas/pull/44624)\u001b[39;00m\n\u001b[1;32m--> 379\u001b[0m result \u001b[38;5;241m=\u001b[39m cast(\u001b[38;5;124m\"\u001b[39m\u001b[38;5;124mUnion[Self, DTScalarOrNaT]\u001b[39m\u001b[38;5;124m\"\u001b[39m, \u001b[38;5;28msuper\u001b[39m()\u001b[38;5;241m.\u001b[39m\u001b[38;5;21m__getitem__\u001b[39m(key))\n\u001b[0;32m    380\u001b[0m \u001b[38;5;28;01mif\u001b[39;00m lib\u001b[38;5;241m.\u001b[39mis_scalar(result):\n\u001b[0;32m    381\u001b[0m     \u001b[38;5;28;01mreturn\u001b[39;00m result\n",
      "File \u001b[1;32mc:\\Users\\neurogears\\source\\repos\\zuckerman\\Delphi\\.conda\\Lib\\site-packages\\pandas\\core\\arrays\\_mixins.py:284\u001b[0m, in \u001b[0;36mNDArrayBackedExtensionArray.__getitem__\u001b[1;34m(self, key)\u001b[0m\n\u001b[0;32m    278\u001b[0m \u001b[38;5;28;01mdef\u001b[39;00m \u001b[38;5;21m__getitem__\u001b[39m(\n\u001b[0;32m    279\u001b[0m     \u001b[38;5;28mself\u001b[39m,\n\u001b[0;32m    280\u001b[0m     key: PositionalIndexer2D,\n\u001b[0;32m    281\u001b[0m ) \u001b[38;5;241m-\u001b[39m\u001b[38;5;241m>\u001b[39m Self \u001b[38;5;241m|\u001b[39m Any:\n\u001b[0;32m    282\u001b[0m     \u001b[38;5;28;01mif\u001b[39;00m lib\u001b[38;5;241m.\u001b[39mis_integer(key):\n\u001b[0;32m    283\u001b[0m         \u001b[38;5;66;03m# fast-path\u001b[39;00m\n\u001b[1;32m--> 284\u001b[0m         result \u001b[38;5;241m=\u001b[39m \u001b[38;5;28mself\u001b[39m\u001b[38;5;241m.\u001b[39m_ndarray[key]\n\u001b[0;32m    285\u001b[0m         \u001b[38;5;28;01mif\u001b[39;00m \u001b[38;5;28mself\u001b[39m\u001b[38;5;241m.\u001b[39mndim \u001b[38;5;241m==\u001b[39m \u001b[38;5;241m1\u001b[39m:\n\u001b[0;32m    286\u001b[0m             \u001b[38;5;28;01mreturn\u001b[39;00m \u001b[38;5;28mself\u001b[39m\u001b[38;5;241m.\u001b[39m_box_func(result)\n",
      "\u001b[1;31mIndexError\u001b[0m: index 0 is out of bounds for axis 0 with size 0"
     ]
    }
   ],
   "source": [
    "# Using the consolidated data sets, do an example plot centered around a poke event\n",
    "\n",
    "def extract_event_info(experiment_state: pd.DataFrame, rule_state: pd.DataFrame, event_time: pd.Timestamp, time_offset: float, metadata: DotMap):\n",
    "    # get time window around event\n",
    "    start_time = event_time - pd.Timedelta(seconds=time_offset)\n",
    "    end_time = event_time + pd.Timedelta(seconds=time_offset)\n",
    "\n",
    "    # slice data in this time window\n",
    "    event_data = experiment_state[start_time : end_time]\n",
    "    event_vid = video_data[start_time : end_time]\n",
    "\n",
    "    # additional meta information\n",
    "    animal_id = metadata.metadata.animalId\n",
    "    cur_state = experiment_state.ffill().loc[experiment_state.index <= event_time].iloc[[-1]]\n",
    "    current_rule = rule_state[rule_state.index <= event_time][\"metadata\"].iloc[-1]\n",
    "\n",
    "    cur_odor = [state for state in ['odorA_state', 'odorB_state', 'odorC_state', 'odorD_state'] if cur_state[state][0]]\n",
    "    cur_odor = cur_odor[0] if len(cur_odor)>0 else None\n",
    "    if cur_odor is None:\n",
    "        odor_name = 'None'\n",
    "        odor_line = np.nan\n",
    "    else:\n",
    "        odor_name = cur_odor.split('_')[0].capitalize()\n",
    "        odor_name = odor_name[:-1] + odor_name[-1].upper()\n",
    "        odor_line = [o.line for o in metadata.lineMappings.odorMap if o.name==odor_name][0]\n",
    "\n",
    "    time_beam_break_on = event_time\n",
    "    time_beam_break_off = experiment_state.loc[(experiment_state['poke_events'] == False) & (experiment_state.index > event_time)].index[0]\n",
    "\n",
    "    time_port_open = experiment_state.loc[(experiment_state['port_line_state'] == True) & (experiment_state.index > event_time)].index[0]\n",
    "    time_port_close = experiment_state.loc[(experiment_state['port_line_state'] == False) & (experiment_state.index > event_time)].index[0]\n",
    "\n",
    "    time_odor_open = experiment_state.loc[(experiment_state[cur_odor] == True) & (experiment_state.index <= event_time)].index[0] if cur_odor else None\n",
    "    time_odor_close = experiment_state.loc[(experiment_state[cur_odor] == False) & (experiment_state.index > event_time)].index[0] if cur_odor else None\n",
    "\n",
    "    next_poke_valves = (experiment_state[experiment_state.index > time_port_close])[['odorA_state', 'odorB_state', 'odorC_state', 'odorD_state']].sum(axis=1)\n",
    "    next_odor_time = next_poke_valves[next_poke_valves == 1].index[0]\n",
    "    next_poke_time = experiment_state.loc[(experiment_state.index > time_port_close) & (experiment_state['poke_events'] == True)]['poke_events']\n",
    "    next_poke_time = (next_poke_time.index[0] if (len(next_poke_time)>0) else np.nan)\n",
    "\n",
    "    # summarise in data frame\n",
    "    event_df = pd.DataFrame({\n",
    "        'animal_id': animal_id,\n",
    "        'current_rule': current_rule.ruleAlias,\n",
    "        'current_odor': odor_name,\n",
    "        'odor_line': odor_line,\n",
    "        'port_line': metadata.lineMappings.portLine,\n",
    "        'vacuum_line': metadata.lineMappings.vacuumLine,\n",
    "        'aux_line': metadata.lineMappings.auxLine,\n",
    "        'poke_state': cur_state['poke_events'],\n",
    "        'initiating_event': cur_state['initiating_event'],\n",
    "        'port_line_state': cur_state['port_line_state'],\n",
    "        'vacuum_line_state': cur_state['vacuum_line_state'],\n",
    "        'odorA_state': cur_state['odorA_state'],\n",
    "        'odorB_state': cur_state['odorB_state'],\n",
    "        'odorC_state': cur_state['odorC_state'],\n",
    "        'odorD_state': cur_state['odorD_state'],\n",
    "        'beam_break_count': cur_state['poke_count'],\n",
    "        'odor_count': cur_state['odor_count'],\n",
    "        'initiating_event_count': cur_state['initiating_event_count'],\n",
    "        'beam_break_on': time_beam_break_on,\n",
    "        'beam_break_off': time_beam_break_off,\n",
    "        'port_open': time_port_open,\n",
    "        'port_close': time_port_close,\n",
    "        'odor_open': time_odor_open,\n",
    "        'odor_close': time_odor_close,\n",
    "        'next_odor': next_odor_time,\n",
    "        'next_poke': next_poke_time\n",
    "    })\n",
    "\n",
    "    return event_data, event_vid, event_df\n",
    "\n",
    "# Get all the poke onset events, then extract the event times\n",
    "poke_events = merged[\"poke_events\"][merged[\"poke_events\"]==True]\n",
    "poke_event_times = [poke_events.iloc[[t]].index[0] for t in range(len(poke_events))]\n",
    "    \n",
    "results = [extract_event_info(merged, rule_settings, t, 2.0, metadata) for t in poke_event_times]\n",
    "print(results)\n",
    "summary = pd.concat([r[2] for r in results])\n",
    "summary.to_csv(f'{output_event_folder}summary.csv')"
   ]
  },
  {
   "cell_type": "code",
   "execution_count": 21,
   "metadata": {},
   "outputs": [
    {
     "name": "stderr",
     "output_type": "stream",
     "text": [
      "C:\\Users\\neurogears\\AppData\\Local\\Temp\\ipykernel_2036\\3128862281.py:9: FutureWarning: Downcasting object dtype arrays on .fillna, .ffill, .bfill is deprecated and will change in a future version. Call result.infer_objects(copy=False) instead. To opt-in to the future behavior, set `pd.set_option('future.no_silent_downcasting', True)`\n",
      "  plt.plot(event_data[\"poke_events\"].ffill(), drawstyle = 'steps-post')\n",
      "C:\\Users\\neurogears\\AppData\\Local\\Temp\\ipykernel_2036\\3128862281.py:11: FutureWarning: Downcasting object dtype arrays on .fillna, .ffill, .bfill is deprecated and will change in a future version. Call result.infer_objects(copy=False) instead. To opt-in to the future behavior, set `pd.set_option('future.no_silent_downcasting', True)`\n",
      "  plt.plot(event_data[\"vacuum_line_state\"].ffill() + 2.2, drawstyle = 'steps-post')\n",
      "C:\\Users\\neurogears\\AppData\\Local\\Temp\\ipykernel_2036\\3128862281.py:17: FutureWarning: Series.__getitem__ treating keys as positions is deprecated. In a future version, integer keys will always be treated as labels (consistent with DataFrame behavior). To access a value by position, use `ser.iloc[pos]`\n",
      "  plt.title(f\"Rule: {event_df['current_rule'][0]}\")\n"
     ]
    },
    {
     "data": {
      "text/plain": [
       "[Text(0, -0.25, 'event'),\n",
       " Text(0, 0.55, 'poke'),\n",
       " Text(0, 1.65, 'port_line'),\n",
       " Text(0, 2.75, 'vacuum_line'),\n",
       " Text(0, 3.85, 'odorA'),\n",
       " Text(0, 4.95, 'odorB'),\n",
       " Text(0, 6.05, 'odorC'),\n",
       " Text(0, 7.05, 'video_frames')]"
      ]
     },
     "execution_count": 21,
     "metadata": {},
     "output_type": "execute_result"
    },
    {
     "data": {
      "image/png": "[encoded data removed]",
      "text/plain": [
       "<Figure size 640x480 with 1 Axes>"
      ]
     },
     "metadata": {},
     "output_type": "display_data"
    }
   ],
   "source": [
    "# Construct a plot of one of these results\n",
    "event_idx = 2\n",
    "event_data = results[event_idx][0]\n",
    "event_vid = results[event_idx][1]\n",
    "event_df = results[event_idx][2]\n",
    "fig = plt.figure()\n",
    "\n",
    "plt.plot([event_df.index[0], event_df.index[0]], [-0.5, -0.1], c='r', linestyle='dashed')\n",
    "plt.plot(event_data[\"poke_events\"].ffill(), drawstyle = 'steps-post')\n",
    "plt.plot(event_data[\"port_line_state\"].ffill() + 1.1, drawstyle = 'steps-post')\n",
    "plt.plot(event_data[\"vacuum_line_state\"].ffill() + 2.2, drawstyle = 'steps-post')\n",
    "plt.plot(event_data[\"odorA_state\"].ffill() + 3.3, drawstyle = 'steps-post')\n",
    "plt.plot(event_data[\"odorB_state\"].ffill() + 4.4, drawstyle = 'steps-post')\n",
    "plt.plot(event_data[\"odorC_state\"].ffill() + 5.5, drawstyle = 'steps-post')\n",
    "plt.scatter(event_vid.index, np.ones((1, len(event_vid.index))) * 7, c='k', s=0.1)\n",
    "plt.xticks(rotation=90)\n",
    "plt.title(f\"Rule: {event_df['current_rule'][0]}\")\n",
    "\n",
    "ax = fig.axes[0]\n",
    "ax.set_yticks([-0.25, 0.55, 1.65, 2.75, 3.85, 4.95, 6.05, 7.05])\n",
    "ax.set_yticklabels(['event', 'poke', 'port_line', 'vacuum_line', 'odorA', 'odorB', 'odorC', 'video_frames'])"
   ]
  },
  {
   "cell_type": "code",
   "execution_count": 35,
   "metadata": {},
   "outputs": [
    {
     "name": "stderr",
     "output_type": "stream",
     "text": [
      "C:\\Users\\neurogears\\AppData\\Local\\Temp\\ipykernel_34288\\1909585882.py:11: FutureWarning: Downcasting object dtype arrays on .fillna, .ffill, .bfill is deprecated and will change in a future version. Call result.infer_objects(copy=False) instead. To opt-in to the future behavior, set `pd.set_option('future.no_silent_downcasting', True)`\n",
      "  cur_state = experiment_state.ffill().loc[experiment_state.index <= cur_t].iloc[-1]\n",
      "C:\\Users\\neurogears\\AppData\\Local\\Temp\\ipykernel_34288\\1909585882.py:12: FutureWarning: Series.__getitem__ treating keys as positions is deprecated. In a future version, integer keys will always be treated as labels (consistent with DataFrame behavior). To access a value by position, use `ser.iloc[pos]`\n",
      "  current_rule = event_df[\"current_rule\"][0]\n"
     ]
    },
    {
     "name": "stdout",
     "output_type": "stream",
     "text": [
      "../temp_data_remote/Vacuum ON 2024-05-31T15-32-20/EventResults/Stimulus-1-Event-1-2024-05-3115T32T27.789247990.mp4\n",
      "../temp_data_remote/Vacuum ON 2024-05-31T15-32-20/EventResults/Stimulus-2-Event-2-2024-05-3115T32T28.858687878.mp4\n",
      "../temp_data_remote/Vacuum ON 2024-05-31T15-32-20/EventResults/Stimulus-3-Event-3-2024-05-3115T32T29.883232117.mp4\n",
      "../temp_data_remote/Vacuum ON 2024-05-31T15-32-20/EventResults/Stimulus-4-Event-4-2024-05-3115T32T30.886079788.mp4\n",
      "../temp_data_remote/Vacuum ON 2024-05-31T15-32-20/EventResults/Stimulus-5-Event-5-2024-05-3115T32T31.746367931.mp4\n",
      "../temp_data_remote/Vacuum ON 2024-05-31T15-32-20/EventResults/Stimulus-6-Event-6-2024-05-3115T32T32.780159950.mp4\n",
      "../temp_data_remote/Vacuum ON 2024-05-31T15-32-20/EventResults/Stimulus-7-Event-7-2024-05-3115T32T34.135744095.mp4\n",
      "../temp_data_remote/Vacuum ON 2024-05-31T15-32-20/EventResults/Stimulus-8-Event-8-2024-05-3115T32T35.173215866.mp4\n",
      "../temp_data_remote/Vacuum ON 2024-05-31T15-32-20/EventResults/Stimulus-9-Event-9-2024-05-3115T32T36.918176174.mp4\n",
      "../temp_data_remote/Vacuum ON 2024-05-31T15-32-20/EventResults/Stimulus-10-Event-10-2024-05-3115T32T38.019040108.mp4\n",
      "../temp_data_remote/Vacuum ON 2024-05-31T15-32-20/EventResults/Stimulus-11-Event-11-2024-05-3115T32T38.962592125.mp4\n"
     ]
    }
   ],
   "source": [
    "def create_event_video(experiment_state: pd.DataFrame, event_frame_data: pd.DataFrame, event_df: pd.DataFrame):\n",
    "    # get all frames\n",
    "    frames = [f for f in video.frames(event_frame_data)]\n",
    "\n",
    "    # create annotated video\n",
    "    annotated_frames = []\n",
    "    event_time = event_df.index\n",
    "    for i, f in enumerate(frames):\n",
    "        cur_t = event_frame_data.index[i]\n",
    "        relative_t = (cur_t - event_time)[0].total_seconds()\n",
    "        cur_state = experiment_state.ffill().loc[experiment_state.index <= cur_t].iloc[-1]\n",
    "        current_rule = event_df[\"current_rule\"][0]\n",
    "\n",
    "        cv2.putText(f, f'Animal : {metadata.metadata.animalId}', (10, 30), cv2.FONT_HERSHEY_SIMPLEX, 0.7, (0, 0, 0), 2, 1)\n",
    "\n",
    "        cv2.putText(f, f'Rule : {current_rule}', (10, 60), cv2.FONT_HERSHEY_SIMPLEX, 0.7, (0, 0, 0), 2, 1)\n",
    "        cv2.putText(f, f'HARP Time : {cur_t}', (10, 90), cv2.FONT_HERSHEY_SIMPLEX, 0.7, (0, 0, 0), 2, 1)\n",
    "        cv2.putText(f, f'Current stimulus : {int(cur_state[\"odor_count\"])}', (10, 120), cv2.FONT_HERSHEY_SIMPLEX, 0.7, (0, 0, 0), 2, 1)\n",
    "        cv2.putText(f, f'Time to event (s) : {relative_t}', (10, 150), cv2.FONT_HERSHEY_SIMPLEX, 0.7, (0, 0, 0), 2, 1)\n",
    "\n",
    "        cv2.putText(f, f\"Aux state : {cur_state.fillna(False)['poke_events']}\", (10, 180), cv2.FONT_HERSHEY_SIMPLEX, 0.7, (0, 255, 0) if cur_state.fillna(False)['poke_events'] else (0, 0, 255), 2, 1)\n",
    "        cv2.putText(f, f\"Port state : {cur_state['port_line_state']}\", (10, 210), cv2.FONT_HERSHEY_SIMPLEX, 0.7, (0, 255, 0) if cur_state['port_line_state'] else (0, 0, 255), 2, 1)\n",
    "        cv2.putText(f, f\"OdorA state : {cur_state['odorA_state']}\", (10, 240), cv2.FONT_HERSHEY_SIMPLEX, 0.7, (0, 255, 0) if cur_state['odorA_state'] else (0, 0, 255), 2, 1)\n",
    "        cv2.putText(f, f\"OdorB state : {cur_state['odorB_state']}\", (10, 270), cv2.FONT_HERSHEY_SIMPLEX, 0.7, (0, 255, 0) if cur_state['odorB_state'] else (0, 0, 255), 2, 1)\n",
    "        cv2.putText(f, f\"OdorC state : {cur_state['odorC_state']}\", (10, 300), cv2.FONT_HERSHEY_SIMPLEX, 0.7, (0, 255, 0) if cur_state['odorC_state'] else (0, 0, 255), 2, 1)\n",
    "\n",
    "        cv2.putText(f, f\"Poke count : {cur_state['poke_count']}\", (10, 330), cv2.FONT_HERSHEY_SIMPLEX, 0.7, (0, 0, 0), 2, 1)\n",
    "        annotated_frames.append(f)\n",
    "\n",
    "    return annotated_frames\n",
    "        \n",
    "for i, r in enumerate(results):\n",
    "    annotated = create_event_video(merged, r[1], r[2])\n",
    "\n",
    "    vid_path = f'{output_event_folder}Stimulus-{int(r[2][\"odor_count\"].iloc[0])}-Event-{(i+1)}-{str(r[2].index[0]).replace(\" \", \"\").replace(\":\", \"T\")}.mp4'\n",
    "\n",
    "    print(vid_path)\n",
    "    video.export(annotated, vid_path, 50)"
   ]
  },
  {
   "cell_type": "code",
   "execution_count": null,
   "metadata": {},
   "outputs": [],
   "source": []
  }
 ],
 "metadata": {
  "kernelspec": {
   "display_name": ".venv",
   "language": "python",
   "name": "python3"
  },
  "language_info": {
   "codemirror_mode": {
    "name": "ipython",
    "version": 3
   },
   "file_extension": ".py",
   "mimetype": "text/x-python",
   "name": "python",
   "nbconvert_exporter": "python",
   "pygments_lexer": "ipython3",
   "version": "3.11.8"
  }
 },
 "nbformat": 4,
 "nbformat_minor": 2
}
