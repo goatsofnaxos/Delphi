{
 "cells": [
  {
   "cell_type": "code",
   "execution_count": 257,
   "metadata": {},
   "outputs": [],
   "source": [
    "import harp\n",
    "import utils\n",
    "import pandas as pd\n",
    "from glob import glob\n",
    "import matplotlib.pyplot as plt\n",
    "from functools import reduce\n",
    "import aeon.io.video as video\n",
    "import aeon.analysis.movies as frame_helpers\n",
    "import cv2\n",
    "import numpy as np\n",
    "\n",
    "harp_reader = harp.create_reader('device.yml', epoch=harp.REFERENCE_EPOCH)\n",
    "session_data_reader = utils.SessionData()\n",
    "rules_reader = utils.SessionData()\n",
    "video_reader = utils.Video()\n",
    "\n",
    "harp_datafolder = r'../temp_data/2024-02-28T23-16-01/Expander/'\n",
    "settings_datafolder = r'../temp_data/2024-02-28T23-16-01/SessionSettings/'\n",
    "rules_datafolder = r'../temp_data/2024-02-28T23-16-01/RuleSettings/'\n",
    "video_datafolder = r'../temp_data/2024-02-28T23-16-01/VideoData/'"
   ]
  },
  {
   "cell_type": "code",
   "execution_count": 258,
   "metadata": {},
   "outputs": [
    {
     "name": "stdout",
     "output_type": "stream",
     "text": [
      "                                                                     metadata\n",
      "2024-02-28 23:16:02.145503  {'lineMappings': {'odorMap': [DotMap(name='Odo...\n",
      "                                                                     metadata\n",
      "2024-02-28 23:16:02.145503  {'ruleAlias': 'Rule1', 'stateDefinitions': [{'...\n"
     ]
    }
   ],
   "source": [
    "# read experiment metadata\n",
    "session_settings = utils.load_json(session_data_reader, settings_datafolder)\n",
    "\n",
    "rule_settings = utils.load_json(rules_reader, rules_datafolder)\n",
    "\n",
    "print(session_settings)\n",
    "print(rule_settings)"
   ]
  },
  {
   "cell_type": "code",
   "execution_count": 259,
   "metadata": {},
   "outputs": [
    {
     "data": {
      "text/plain": [
       "[<matplotlib.lines.Line2D at 0x1571e6c5690>]"
      ]
     },
     "execution_count": 259,
     "metadata": {},
     "output_type": "execute_result"
    },
    {
     "data": {
      "image/png": "[encoded data removed]",
      "text/plain": [
       "<Figure size 640x480 with 1 Axes>"
      ]
     },
     "metadata": {},
     "output_type": "display_data"
    }
   ],
   "source": [
    "# read experiment video\n",
    "video_data = utils.load_video(video_reader, video_datafolder)\n",
    "\n",
    "plt.plot(video_data.index, video_data[\"_frame\"])"
   ]
  },
  {
   "cell_type": "code",
   "execution_count": 260,
   "metadata": {},
   "outputs": [
    {
     "name": "stdout",
     "output_type": "stream",
     "text": [
      "DotMap(lineMappings=DotMap(odorMap=[DotMap(name='OdorA', line=6), DotMap(name='OdorB', line=7), DotMap(name='OdorC', line=8), DotMap(name='OdorD', line=9)], auxLine=0, portLine=0, vacuumLine=2), metadata=DotMap(switchTime1=0.01, switchTime2=0.02, useVacuum=True, vacuumDelay=0.005, vacuumDuration=0.05, chargeTime=0.2, minimumPokeTime=0.1, minOdorDelivery=0.1, maxOdorDelivery=8.0, loggingRootPath='C:\\\\Users\\\\Delphi1983\\\\Delphi\\\\temp_data', animalId='plimbo', remoteTransferRootPath='', maximumPokeTime=10.0, robocopyTimeInterval=3600.0, showHarpLeds=False, maxVideoLength=20.0), cameraProperties=DotMap(imagingRate=60.0, exposureTime=10000, postEventTime=2.5, preEventTime=2.5))\n"
     ]
    }
   ],
   "source": [
    "# Read HARP device streams, conditioned on mappings found in the session metadata\n",
    "metadata = session_settings.iloc[0]['metadata']\n",
    "print(metadata)\n",
    "\n",
    "# Extract line mappings from metadata\n",
    "aux_line = f'Aux{metadata.lineMappings.auxLine}'\n",
    "port_line = f'Out{metadata.lineMappings.portLine}'\n",
    "vacuum_line = f'Out{metadata.lineMappings.vacuumLine}'\n",
    "odorA = f\"Out{next((x.line for x in metadata.lineMappings.odorMap if x.name=='OdorA'), None)}\"\n",
    "odorB = f\"Out{next((x.line for x in metadata.lineMappings.odorMap if x.name=='OdorB'), None)}\"\n",
    "odorC = f\"Out{next((x.line for x in metadata.lineMappings.odorMap if x.name=='OdorC'), None)}\"\n",
    "odorD = f\"Out{next((x.line for x in metadata.lineMappings.odorMap if x.name=='OdorD'), None)}\"\n",
    "\n",
    "# Aux line containing poke events\n",
    "poke_events = utils.load(harp_reader.AuxInState, harp_datafolder)[aux_line]\n",
    "\n",
    "# times when outputs were set to HIGH (e.g. port valve opening, manifold valve opening)\n",
    "outputs_HIGH = utils.load(harp_reader.OutputSet, harp_datafolder)\n",
    "# times when outputs were set to LOW (e.g. port valve closing, manifold closing)\n",
    "outputs_LOW = utils.load(harp_reader.OutputClear, harp_datafolder)\n",
    "\n",
    "# convert LOW and HIGH events to port state dataframes\n",
    "line_states = {\n",
    "    \"poke_events\": poke_events,\n",
    "    \"port_line_state\": utils.concat_digi_events(outputs_LOW[port_line], outputs_HIGH[port_line]),\n",
    "    \"vacuum_line_state\": utils.concat_digi_events(outputs_LOW[vacuum_line], outputs_HIGH[vacuum_line]),\n",
    "    \"odorA_state\": utils.concat_digi_events(outputs_LOW[odorA], outputs_HIGH[odorA]),\n",
    "    \"odorB_state\": utils.concat_digi_events(outputs_LOW[odorB], outputs_HIGH[odorB]),\n",
    "    \"odorC_state\": utils.concat_digi_events(outputs_LOW[odorC], outputs_HIGH[odorC]),\n",
    "    \"odorD_state\": utils.concat_digi_events(outputs_LOW[odorD], outputs_HIGH[odorD])\n",
    "}\n",
    "\n",
    "# consolidate digital lines into as single DataFrame\n",
    "merged = pd.merge(line_states[\"poke_events\"], line_states[\"port_line_state\"], left_on=\"Time\", right_on=\"Time\", how=\"outer\") \\\n",
    "        .merge(line_states[\"vacuum_line_state\"], left_on=\"Time\", right_on=\"Time\", how=\"outer\") \\\n",
    "        .merge(line_states[\"odorA_state\"], left_on=\"Time\", right_on=\"Time\", how=\"outer\") \\\n",
    "        .merge(line_states[\"odorB_state\"], left_on=\"Time\", right_on=\"Time\", how=\"outer\") \\\n",
    "        .merge(line_states[\"odorC_state\"], left_on=\"Time\", right_on=\"Time\", how=\"outer\") \\\n",
    "        .merge(line_states[\"odorD_state\"], left_on=\"Time\", right_on=\"Time\", how=\"outer\")\n",
    "\n",
    "# rename columns according to metadata line mapping\n",
    "merged.columns = line_states.keys()"
   ]
  },
  {
   "cell_type": "code",
   "execution_count": 291,
   "metadata": {},
   "outputs": [
    {
     "name": "stderr",
     "output_type": "stream",
     "text": [
      "C:\\Users\\erski\\AppData\\Local\\Temp\\ipykernel_9608\\525246211.py:21: FutureWarning: Downcasting object dtype arrays on .fillna, .ffill, .bfill is deprecated and will change in a future version. Call result.infer_objects(copy=False) instead. To opt-in to the future behavior, set `pd.set_option('future.no_silent_downcasting', True)`\n",
      "  plt.plot(event_data[\"port_line_state\"].ffill() + 1.1, drawstyle = 'steps-post')\n",
      "C:\\Users\\erski\\AppData\\Local\\Temp\\ipykernel_9608\\525246211.py:40: FutureWarning: Downcasting object dtype arrays on .fillna, .ffill, .bfill is deprecated and will change in a future version. Call result.infer_objects(copy=False) instead. To opt-in to the future behavior, set `pd.set_option('future.no_silent_downcasting', True)`\n",
      "  cur_state = merged.ffill().loc[merged.index <= cur_t].iloc[-1]\n"
     ]
    },
    {
     "data": {
      "image/png": "[encoded data removed]",
      "text/plain": [
       "<Figure size 640x480 with 1 Axes>"
      ]
     },
     "metadata": {},
     "output_type": "display_data"
    }
   ],
   "source": [
    "# Using the consolidated data sets, do an example plot centered around a poke event\n",
    "\n",
    "# Get all the poke onset events, then index to pick a single event. Ultimately we just need to choose a timestamp value to center our plot around.\n",
    "poke_event = merged[\"poke_events\"][merged[\"poke_events\"]==True].iloc[[2]] # as an example we here pick the time 3rd poke event time\n",
    "poke_event_time = poke_event.index[0]\n",
    "\n",
    "# Create a time window around the time of this event\n",
    "time_offset = 10 # 10 second time offset around the event\n",
    "start_time = poke_event_time - pd.Timedelta(seconds=time_offset)\n",
    "end_time = poke_event_time + pd.Timedelta(seconds=time_offset)\n",
    "\n",
    "# Slice the data in this time window\n",
    "event_data = merged[start_time : end_time]\n",
    "event_vid = video_data[start_time : end_time]\n",
    "\n",
    "# Construct a plot of this time window\n",
    "fig = plt.figure()\n",
    "\n",
    "plt.plot([poke_event_time, poke_event_time], [-0.5, -0.1], c='r', linestyle='dashed')\n",
    "plt.plot(event_data[\"poke_events\"].ffill(), drawstyle = 'steps-post')\n",
    "plt.plot(event_data[\"port_line_state\"].ffill() + 1.1, drawstyle = 'steps-post')\n",
    "plt.plot(event_data[\"odorA_state\"].ffill() + 2.2, drawstyle = 'steps-post')\n",
    "plt.plot(event_data[\"odorB_state\"].ffill() + 3.3, drawstyle = 'steps-post')\n",
    "plt.plot(event_data[\"odorC_state\"].ffill() + 4.4, drawstyle = 'steps-post')\n",
    "plt.scatter(event_vid.index, np.ones((1, len(event_vid.index))) * 6, c='k', s=0.1)\n",
    "plt.xticks(rotation=90)\n",
    "\n",
    "ax = fig.axes[0]\n",
    "ax.set_yticks([-0.25, 0.55, 1.65, 2.75, 3.85, 4.95, 6.05])\n",
    "ax.set_yticklabels(['event', 'poke', 'port_line', 'odorA', 'odorB', 'odorC', 'video_frames'])\n",
    "\n",
    "# Get all frames\n",
    "frames = [f for f in video.frames(event_vid)]\n",
    "\n",
    "# create annotated video around this event\n",
    "annotated_frames = []\n",
    "for i, f in enumerate(frames):\n",
    "    cur_t = event_vid.index[i]\n",
    "    relative_t = (cur_t - poke_event_time).total_seconds()\n",
    "    cur_state = merged.ffill().loc[merged.index <= cur_t].iloc[-1]\n",
    "    cv2.putText(f, f'HARP Time : {cur_t}', (10, 30), cv2.FONT_HERSHEY_SIMPLEX, 0.7, (0, 0, 0), 2, 1)\n",
    "    cv2.putText(f, f'Time to event (s) : {relative_t}', (10, 60), cv2.FONT_HERSHEY_SIMPLEX, 0.7, (0, 0, 0), 2, 1)\n",
    "\n",
    "    cv2.putText(f, f\"Aux state : {cur_state['poke_events']}\", (10, 90), cv2.FONT_HERSHEY_SIMPLEX, 0.7, (0, 255, 0) if cur_state['poke_events'] else (0, 0, 255), 2, 1)\n",
    "    cv2.putText(f, f\"Port state : {cur_state['port_line_state']}\", (10, 120), cv2.FONT_HERSHEY_SIMPLEX, 0.7, (0, 255, 0) if cur_state['port_line_state'] else (0, 0, 255), 2, 1)\n",
    "    cv2.putText(f, f\"OdorA state : {cur_state['odorA_state']}\", (10, 150), cv2.FONT_HERSHEY_SIMPLEX, 0.7, (0, 255, 0) if cur_state['odorA_state'] else (0, 0, 255), 2, 1)\n",
    "    cv2.putText(f, f\"OdorB state : {cur_state['odorB_state']}\", (10, 180), cv2.FONT_HERSHEY_SIMPLEX, 0.7, (0, 255, 0) if cur_state['odorB_state'] else (0, 0, 255), 2, 1)\n",
    "    cv2.putText(f, f\"OdorC state : {cur_state['odorC_state']}\", (10, 210), cv2.FONT_HERSHEY_SIMPLEX, 0.7, (0, 255, 0) if cur_state['odorC_state'] else (0, 0, 255), 2, 1)\n",
    "    annotated_frames.append(f)\n",
    "\n",
    "video.export(annotated_frames, 'test.mp4', 50)\n",
    "\n",
    "# extract other information about this event\n",
    "# current_rule = rule_settings[rule_settings.index <= poke_event_time][\"metadata\"].iloc[[-1]]\n",
    "# current_state = event_data.ffill()[event_data.index <= poke_event_time].iloc[[-1]] \n",
    "\n",
    "# on_odors = [odor_name for odor_name in ['odorA_state', 'odorB_state', 'odorC_state'] if current_state[odor_name].values[0]]"
   ]
  },
  {
   "cell_type": "code",
   "execution_count": null,
   "metadata": {},
   "outputs": [],
   "source": []
  },
  {
   "cell_type": "code",
   "execution_count": null,
   "metadata": {},
   "outputs": [],
   "source": []
  }
 ],
 "metadata": {
  "kernelspec": {
   "display_name": ".venv",
   "language": "python",
   "name": "python3"
  },
  "language_info": {
   "codemirror_mode": {
    "name": "ipython",
    "version": 3
   },
   "file_extension": ".py",
   "mimetype": "text/x-python",
   "name": "python",
   "nbconvert_exporter": "python",
   "pygments_lexer": "ipython3",
   "version": "3.11.8"
  }
 },
 "nbformat": 4,
 "nbformat_minor": 2
}
