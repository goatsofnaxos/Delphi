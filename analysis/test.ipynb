{
 "cells": [
  {
   "cell_type": "code",
   "execution_count": null,
   "metadata": {},
   "outputs": [],
   "source": [
    "import harp\n",
    "import utils\n",
    "import pandas as pd\n",
    "import matplotlib.pyplot as plt\n",
    "\n",
    "reader = harp.create_reader('device.yml', epoch=harp.REFERENCE_EPOCH)"
   ]
  },
  {
   "cell_type": "code",
   "execution_count": null,
   "metadata": {},
   "outputs": [],
   "source": [
    "datafolder = r'../src/data/2023-12-14T23-24-31/Expander/'\n",
    "\n",
    "# times when inputs changed state\n",
    "pokes = utils.load(reader.AuxInState, datafolder)\n",
    "\n",
    "# times when outputs were set to HIGH (e.g. port valve opening, manifold valve opening)\n",
    "outputs_HIGH = utils.load(reader.OutputSet, datafolder)\n",
    "\n",
    "# times when outputs were set to LOW (e.g. port valve closing, manifold closing)\n",
    "outputs_LOW = utils.load(reader.OutputClear, datafolder)"
   ]
  },
  {
   "cell_type": "code",
   "execution_count": null,
   "metadata": {},
   "outputs": [],
   "source": [
    "portvalve_open = pokes.Aux0[pokes.Aux0] * 0 + 7\n",
    "portvalve_close = pokes.Aux0[~pokes.Aux0] * 0 + 6\n",
    "odors_close = outputs_LOW.Out6[outputs_LOW.Out6] * 0 + 5\n",
    "\n",
    "odor0_open = outputs_HIGH.Out6[outputs_HIGH.Out6] * 0 + 4\n",
    "odor1_open = outputs_HIGH.Out7[outputs_HIGH.Out7] * 0 + 3\n",
    "odor2_open = outputs_HIGH.Out8[outputs_HIGH.Out8] * 0 + 2\n",
    "odor3_open = outputs_HIGH.Out9[outputs_HIGH.Out9] * 0 + 1\n",
    "\n",
    "start_time = pd.to_datetime('2023-12-12T17:41:06')\n",
    "end_time = start_time + pd.Timedelta('10sec')\n",
    "\n",
    "fig, ax = plt.subplots(layout='constrained')\n",
    "portvalve_open.plot(ax=ax, style='ko', label='portvalve_open')\n",
    "portvalve_close.plot(ax=ax, style='k.', label='portvalve_close')\n",
    "odor0_open.plot(ax=ax, style='r.', label='odor0_open')\n",
    "odor1_open.plot(ax=ax, style='g.', label='odor1_open')\n",
    "odor2_open.plot(ax=ax, style='b.', label='odor2_open')\n",
    "odor3_open.plot(ax=ax, style='m.', label='odor3_open')\n",
    "odors_close.plot(ax=ax, style='k*', label='odors_close')\n",
    "fig.legend(loc='outside right upper')\n",
    "# pokes.Aux0.astype('uint8').plot(style='.')\n",
    "# portvalve_open[start_time:end_time]"
   ]
  }
 ],
 "metadata": {
  "kernelspec": {
   "display_name": ".venv",
   "language": "python",
   "name": "python3"
  },
  "language_info": {
   "codemirror_mode": {
    "name": "ipython",
    "version": 3
   },
   "file_extension": ".py",
   "mimetype": "text/x-python",
   "name": "python",
   "nbconvert_exporter": "python",
   "pygments_lexer": "ipython3",
   "version": "3.11.2"
  }
 },
 "nbformat": 4,
 "nbformat_minor": 2
}
